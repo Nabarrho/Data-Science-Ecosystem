{
 "cells": [
  {
   "cell_type": "markdown",
   "id": "21e1d626-6113-426a-be68-be0994ce6eaf",
   "metadata": {},
   "source": [
    "# Data Science Tools and Ecosystem"
   ]
  },
  {
   "cell_type": "markdown",
   "id": "1ae07825-2936-46bd-b75a-3133c1c41997",
   "metadata": {},
   "source": [
    "## In this notebook, Data Science Tools and Ecosystem are summarized."
   ]
  },
  {
   "cell_type": "markdown",
   "id": "b52767db-ed92-45aa-87c1-c63062898107",
   "metadata": {},
   "source": [
    "Some of the popular languages that Data Scientists use are:\n",
    "1. Python\n",
    "2. R\n",
    "3. SQL\n",
    "4. Julia\n",
    "5. Scala"
   ]
  },
  {
   "cell_type": "markdown",
   "id": "54c1eb6d-1d2a-41c3-842d-fc74b8fcfd78",
   "metadata": {},
   "source": [
    "**Objectives**\n",
    "\n",
    "Popular languages for Data Science\n",
    "\n",
    "- Python - is a high-level, general-purpose programming language\n",
    "- R Language's - array-oriented syntax makes it easier to translate from math to code for learners with no or minimal programming background\n",
    "- SQL - was designed for managing data in relational databases.\n",
    "- Java - is a general-purpose tried and tested object-oriented programming language\n",
    "- Scala - is a general-purpose programming language that provides support for functional programming and is a strong static type system. "
   ]
  },
  {
   "cell_type": "markdown",
   "id": "f48165dc-249c-431a-8011-2ce066586cd6",
   "metadata": {},
   "source": [
    "Some of the commonly used libraries used by Data Scientists include:\n",
    "1. Panda\n",
    "2. NumPy\n",
    "3. Scikit-learn\n",
    "4. TensorFlow\n",
    "5. Matplotlib"
   ]
  },
  {
   "cell_type": "markdown",
   "id": "fea1ded9-6651-4b4b-9755-1c9bfbb2a0bc",
   "metadata": {},
   "source": [
    "|Data Science Tools |\n",
    "|-------------------|\n",
    "|Jupyter Notebook|\n",
    "|RStudio         |\n",
    "|VS Code         | "
   ]
  },
  {
   "cell_type": "markdown",
   "id": "8217a4bc-52d7-4267-8002-35439bd8d4b4",
   "metadata": {},
   "source": [
    "### Below are a few examples of evaluating arithmetic expressions in Python\n",
    "\n",
    "1. Addition: 7+3\n",
    "2. Subtraction: 10-3\n",
    "3. Multiplication: 5x2\n",
    "4. Division: 20/2"
   ]
  },
  {
   "cell_type": "code",
   "execution_count": 1,
   "id": "294b401d-f507-4800-b69f-f90353447503",
   "metadata": {},
   "outputs": [
    {
     "name": "stdout",
     "output_type": "stream",
     "text": [
      "17\n"
     ]
    }
   ],
   "source": [
    "# This is a simple arithmethic expression to multiply then add integers\n",
    "\n",
    "result=(3*4)+5\n",
    "print(result)"
   ]
  },
  {
   "cell_type": "code",
   "execution_count": 2,
   "id": "32d7f412-9b3e-4c32-9c2d-f29d3bb07b36",
   "metadata": {},
   "outputs": [
    {
     "name": "stdout",
     "output_type": "stream",
     "text": [
      "3.3333333333333335\n"
     ]
    }
   ],
   "source": [
    "# This will convert 200 minutes into hours:\n",
    "\n",
    "hours = 200 / 60\n",
    "print(hours)"
   ]
  },
  {
   "cell_type": "markdown",
   "id": "f1c54aa1-f6ff-416e-a97e-74d7dcc62fe8",
   "metadata": {},
   "source": [
    "## Author\n",
    "Juan Carlos Navarro"
   ]
  }
 ],
 "metadata": {
  "kernelspec": {
   "display_name": "Python [conda env:base] *",
   "language": "python",
   "name": "conda-base-py"
  },
  "language_info": {
   "codemirror_mode": {
    "name": "ipython",
    "version": 3
   },
   "file_extension": ".py",
   "mimetype": "text/x-python",
   "name": "python",
   "nbconvert_exporter": "python",
   "pygments_lexer": "ipython3",
   "version": "3.12.7"
  }
 },
 "nbformat": 4,
 "nbformat_minor": 5
}
